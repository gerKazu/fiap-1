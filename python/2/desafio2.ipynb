{
 "cells": [
  {
   "cell_type": "markdown",
   "metadata": {},
   "source": [
    "# Exercícios"
   ]
  },
  {
   "cell_type": "markdown",
   "metadata": {},
   "source": [
    "\n",
    "## 1) Escreva uma função que verifique se há uma letra no começo de uma frase. Se houver, retorne True, caso contrário, retorne False. "
   ]
  },
  {
   "cell_type": "code",
   "execution_count": 3,
   "metadata": {},
   "outputs": [
    {
     "name": "stdout",
     "output_type": "stream",
     "text": [
      "Testando 123: True\n",
      "1 mais um igual a 2:  False\n"
     ]
    }
   ],
   "source": [
    "# resposta 1\n",
    "import re\n",
    "\n",
    "def is_frase_inicia_letra(frase):\n",
    "    return re.search('^[a-zA-Z]', frase) != None\n",
    "\n",
    "frase = \"Testando 123:\"\n",
    "\n",
    "print(frase, is_frase_inicia_letra(frase))\n",
    "\n",
    "frase1 = \"1 mais um igual a 2: \"\n",
    "print(frase1, is_frase_inicia_letra(frase1))"
   ]
  },
  {
   "cell_type": "markdown",
   "metadata": {},
   "source": [
    "## 2) Reescreva a seguinte função usando:\n",
    "    -> map e lambda\n",
    "    -> list comprehension"
   ]
  },
  {
   "cell_type": "code",
   "execution_count": 4,
   "metadata": {},
   "outputs": [
    {
     "name": "stdout",
     "output_type": "stream",
     "text": [
      "[0, 1, 4, 9, 16, 25, 36, 49, 64, 81]\n"
     ]
    }
   ],
   "source": [
    "squares = []\n",
    "for x in range(10):\n",
    "    squares.append(x**2)\n",
    "    \n",
    "print(squares)"
   ]
  },
  {
   "cell_type": "code",
   "execution_count": 5,
   "metadata": {},
   "outputs": [
    {
     "name": "stdout",
     "output_type": "stream",
     "text": [
      "[0, 1, 4, 9, 16, 25, 36, 49, 64, 81]\n"
     ]
    }
   ],
   "source": [
    "# resposta 2-a\n",
    "squares = map(lambda x: x**2, range(10))\n",
    "print(list(squares))"
   ]
  },
  {
   "cell_type": "code",
   "execution_count": 6,
   "metadata": {},
   "outputs": [
    {
     "data": {
      "text/plain": [
       "[0, 1, 4, 9, 16, 25, 36, 49, 64, 81]"
      ]
     },
     "execution_count": 6,
     "metadata": {},
     "output_type": "execute_result"
    }
   ],
   "source": [
    "# resposta 2-b\n",
    "[x ** 2 for x in range(10)]"
   ]
  },
  {
   "cell_type": "markdown",
   "metadata": {},
   "source": [
    "## 3) Escreva em Python uma função que, dadas duas listas não vazias e de mesmo comprimento, retorne como resultado uma nova lista contendo em cada posição a soma dos elementos correspondentes nas duas listas recebidas.\n",
    "    -> l1 = [1,2,3,4,5]\n",
    "    -> l2 = [1,2,3,4,5]\n",
    "    -> resultado = [2,4,6,8,10]"
   ]
  },
  {
   "cell_type": "code",
   "execution_count": 7,
   "metadata": {},
   "outputs": [
    {
     "data": {
      "text/plain": [
       "[2, 4, 6, 8, 10]"
      ]
     },
     "execution_count": 7,
     "metadata": {},
     "output_type": "execute_result"
    }
   ],
   "source": [
    "# resposta 3\n",
    "def dot_soma(lista1, lista2):\n",
    "    return [x + y for (x,y) in zip(lista1, lista2)]\n",
    "\n",
    "l1 = [1,2,3,4,5]\n",
    "l2 = [1,2,3,4,5]\n",
    "\n",
    "somas = dot_soma(l1, l2)\n",
    "\n",
    "list(somas)"
   ]
  },
  {
   "cell_type": "markdown",
   "metadata": {},
   "source": [
    "## 4) A amplitude de um vetor 3D é dado pela seguinte fórmula: $\\sqrt{x^2 + y^2 + z^2}$\n",
    "## Escreva uma função, usando lambda, que calcule a amplitude dos seguintes vetores:\n",
    "    -> (1,1,1) \n",
    "    -> (3,4,5)"
   ]
  },
  {
   "cell_type": "code",
   "execution_count": 22,
   "metadata": {},
   "outputs": [
    {
     "name": "stdout",
     "output_type": "stream",
     "text": [
      "Amplitude l1: 1.7320508075688772\n",
      "Amplitude l1: 7.0710678118654755\n"
     ]
    }
   ],
   "source": [
    "# resposta 4\n",
    "from functools import reduce\n",
    "\n",
    "l1 = (1,1,1) \n",
    "l2 = (3,4,5)\n",
    "\n",
    "amplitude = lambda list1: reduce(lambda x, soma: x + soma, map(lambda x: x ** 2, list1)) ** 0.5\n",
    "print(\"Amplitude l1:\", amplitude(l1))\n",
    "print(\"Amplitude l1:\", amplitude(l2))"
   ]
  },
  {
   "cell_type": "markdown",
   "metadata": {},
   "source": [
    "### 5) Use reduce para criar uma função que calcule o fatorial de qualquer número n"
   ]
  },
  {
   "cell_type": "code",
   "execution_count": 25,
   "metadata": {},
   "outputs": [
    {
     "name": "stdout",
     "output_type": "stream",
     "text": [
      "Fatorial de 0: 1\n",
      "Fatorial de 1: 1\n",
      "Fatorial de 2: 2\n",
      "Fatorial de 3: 6\n"
     ]
    }
   ],
   "source": [
    "from functools import reduce\n",
    "\n",
    "# resposta 5\n",
    "fatorial = lambda n: reduce(lambda x, fact: fact * x, [1] + [i for i in range(2, n+1)])\n",
    "print(\"Fatorial de 0:\", fatorial(0))\n",
    "print(\"Fatorial de 1:\", fatorial(1))\n",
    "print(\"Fatorial de 2:\", fatorial(2))\n",
    "print(\"Fatorial de 3:\", fatorial(3))"
   ]
  },
  {
   "cell_type": "markdown",
   "metadata": {},
   "source": [
    "## 6) Reescreva a função abaixo usando list comprehension:"
   ]
  },
  {
   "cell_type": "code",
   "execution_count": 26,
   "metadata": {},
   "outputs": [
    {
     "name": "stdout",
     "output_type": "stream",
     "text": [
      "['the', 'quick', 'brown', 'fox', 'jumps', 'over', 'the', 'lazy', 'dog']\n",
      "[5, 5, 3, 5, 4, 4, 3]\n"
     ]
    }
   ],
   "source": [
    "sentence = \"the quick brown fox jumps over the lazy dog\"\n",
    "words = sentence.split()\n",
    "word_lengths = []\n",
    "for word in words:\n",
    "      if word != \"the\":\n",
    "          word_lengths.append(len(word))\n",
    "print(words)\n",
    "print(word_lengths)"
   ]
  },
  {
   "cell_type": "code",
   "execution_count": 27,
   "metadata": {},
   "outputs": [
    {
     "name": "stdout",
     "output_type": "stream",
     "text": [
      "['the', 'quick', 'brown', 'fox', 'jumps', 'over', 'the', 'lazy', 'dog']\n",
      "[5, 5, 3, 5, 4, 4, 3]\n"
     ]
    }
   ],
   "source": [
    "# resposta 6\n",
    "sentence = \"the quick brown fox jumps over the lazy dog\"\n",
    "print([palavra for palavra in sentence.split()])\n",
    "print([len(palavra) for palavra in sentence.split() if palavra != \"the\"])\n"
   ]
  },
  {
   "cell_type": "markdown",
   "metadata": {},
   "source": [
    "## 7) Calcule o número de meses desde a data que o brasil foi descoberto. Considere um mês com 30 dias. Dia do descobrimento do Brasil 22/04/1500."
   ]
  },
  {
   "cell_type": "code",
   "execution_count": 28,
   "metadata": {},
   "outputs": [
    {
     "name": "stdout",
     "output_type": "stream",
     "text": [
      "6319\n"
     ]
    }
   ],
   "source": [
    "# resposta 7\n",
    "from datetime import date  \n",
    "from datetime import timedelta\n",
    "\n",
    "data_descobrimento = date(1500, 4, 22)\n",
    "hoje = date.today()\n",
    "meses = (hoje - data_descobrimento).days // 30\n",
    "print(meses)"
   ]
  },
  {
   "cell_type": "markdown",
   "metadata": {},
   "source": [
    "## 8) Implementar um programa que receba um nome de arquivo e gere estatísticas sobre o arquivo (número de caracteres, número de linhas e número de palavras)\n",
    "    -> verifique a existência do arquivo\n",
    "    -> crie um arquivo de texto fictício contendo 10 linhas"
   ]
  },
  {
   "cell_type": "code",
   "execution_count": 3,
   "metadata": {},
   "outputs": [
    {
     "name": "stdout",
     "output_type": "stream",
     "text": [
      "Digite o nome do arquivo\n",
      "teste.txt\n",
      "====================================================================================================\n",
      "Estatisticas do texto {'numero_caracteres': 71, 'numero_linhas': 4, 'numero_palavras': 11}\n",
      "====================================================================================================\n",
      "Texto: Abcdef.Abc\n",
      "João da Silva\n",
      "teste23                 lkj .  . . . . . \n",
      "É uma vergonha. 123. 12321321 21321321 É\n",
      "====================================================================================================\n",
      "Linhas: ['Abcdef.Abc', 'João da Silva', 'teste23                 lkj .  . . . . . ', 'É uma vergonha. 123. 12321321 21321321 É']\n",
      "====================================================================================================\n",
      "Palavras: ['Abcdef', 'Abc', 'João', 'da', 'Silva', 'teste23', 'lkj', 'É', 'uma', 'vergonha', 'É']\n"
     ]
    }
   ],
   "source": [
    "# resposta 8\n",
    "import re\n",
    "\n",
    "def informacoes_texto(texto):\n",
    "    linhas = re.compile('\\n').split(texto)\n",
    "    palavras = []\n",
    "    for sentenca in linhas:\n",
    "        # Quebra tudo que não é palavra\n",
    "        termos = re.compile(\"\\W\").split(sentenca) \n",
    "        palavras.extend([termo for termo in termos if re.search(\"^[a-zA-Z\\u00C0-\\u00FF]\", termo) != None])\n",
    "\n",
    "    d = {}  \n",
    "    # Considerei as quebras e espacos como caracteres\n",
    "    d['numero_caracteres'] = len(re.sub(\"\\s\", \"\", texto))\n",
    "    d['numero_linhas'] = len(linhas)\n",
    "    d['numero_palavras'] = len(palavras)\n",
    "    return (d, texto, linhas, palavras)\n",
    "\n",
    "\n",
    "def estatisticas(nome_arquivo):\n",
    "    texto = \"\"\n",
    "    dictionary = []\n",
    "    with open(nome_arquivo, 'r') as file:\n",
    "        for x in file:\n",
    "            texto += x\n",
    "        return informacoes_texto(texto)\n",
    "    return dictionary\n",
    "     \n",
    "    \n",
    "\n",
    "nome_arquivo = input(\"Digite o nome do arquivo\\n\")\n",
    "dict_estatistica, texto, linhas, palavras = estatisticas(nome_arquivo)\n",
    "print(\"=\"*100)\n",
    "print(\"Estatisticas do texto\", dict_estatistica)\n",
    "print(\"=\"*100)\n",
    "print(\"Texto:\", texto)\n",
    "print(\"=\"*100)\n",
    "print(\"Linhas:\", linhas)\n",
    "print(\"=\"*100)\n",
    "print(\"Palavras:\", palavras)\n",
    "            "
   ]
  }
 ],
 "metadata": {
  "kernelspec": {
   "display_name": "Python 3",
   "language": "python",
   "name": "python3"
  },
  "language_info": {
   "codemirror_mode": {
    "name": "ipython",
    "version": 3
   },
   "file_extension": ".py",
   "mimetype": "text/x-python",
   "name": "python",
   "nbconvert_exporter": "python",
   "pygments_lexer": "ipython3",
   "version": "3.7.3"
  }
 },
 "nbformat": 4,
 "nbformat_minor": 2
}
