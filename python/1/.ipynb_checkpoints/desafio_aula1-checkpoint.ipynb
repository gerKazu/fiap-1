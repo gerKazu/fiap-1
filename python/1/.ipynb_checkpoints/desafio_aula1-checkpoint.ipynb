{
 "cells": [
  {
   "cell_type": "markdown",
   "metadata": {},
   "source": [
    "# Exercícios\n"
   ]
  },
  {
   "cell_type": "markdown",
   "metadata": {},
   "source": [
    "## 1) Inicie uma variável com o valor “josé da silva martins” e converta para o formato “José Da Silva Martins”, com uma única operação. Utilize string e/ou capwords.\n"
   ]
  },
  {
   "cell_type": "code",
   "execution_count": 1,
   "metadata": {},
   "outputs": [
    {
     "data": {
      "text/plain": [
       "'José Da Silva Martins'"
      ]
     },
     "execution_count": 1,
     "metadata": {},
     "output_type": "execute_result"
    }
   ],
   "source": [
    "# resposta 1\n",
    "nome = 'josé da silva martins'\n",
    "nome.title()\n"
   ]
  },
  {
   "cell_type": "markdown",
   "metadata": {},
   "source": [
    "## 2) Crie uma função que verifique se um determinado número é ímpar, sendo ímpar deverá retornar verdadeiro e falso o contrário."
   ]
  },
  {
   "cell_type": "code",
   "execution_count": 2,
   "metadata": {},
   "outputs": [
    {
     "name": "stdout",
     "output_type": "stream",
     "text": [
      "2 é impar?  False\n",
      "3 é impar?  True\n"
     ]
    }
   ],
   "source": [
    "# resposta 2\n",
    "def is_impar(numero):\n",
    "    return numero % 2 == 1\n",
    "print('2 é impar? ', is_impar(2))\n",
    "print('3 é impar? ', is_impar(3))"
   ]
  },
  {
   "cell_type": "markdown",
   "metadata": {},
   "source": [
    "## 3) Dado uma lista l = [1.2232, 2.322, 43.23131, 6.34324, 78.3243] transforme seus valores para que ao final tenhamos números arrendados na segunda casa decimal. Utilize a função built-in round(numero, casas_decimais)\n"
   ]
  },
  {
   "cell_type": "code",
   "execution_count": 5,
   "metadata": {},
   "outputs": [
    {
     "data": {
      "text/plain": [
       "[1.22, 2.32, 43.23, 6.34, 78.32]"
      ]
     },
     "execution_count": 5,
     "metadata": {},
     "output_type": "execute_result"
    }
   ],
   "source": [
    "# resposta 3\n",
    "l = [1.2232, 2.322, 43.23131, 6.34324, 78.3243]\n",
    "l = [round(numero, 2) for numero in l]\n",
    "l"
   ]
  },
  {
   "cell_type": "markdown",
   "metadata": {},
   "source": [
    "## 4) Crie uma função que retorne na forma de um dicionário as seguintes informações do texto abaixo: número de palavras (e palavras), número de números (e números) e número de frases (e frases). Utilize a função built-in isdigit() do pacote string para verificar se determinado caractere é número e split(separador) para criar uma lista a partir do caracatere ou token de separação."
   ]
  },
  {
   "cell_type": "raw",
   "metadata": {},
   "source": [
    "Brasil, oficialmente República Federativa do Brasil é o maior país da América do Sul e da região da América Latina, sendo o quinto maior do mundo em área territorial (equivalente a 47 porcento do território sul-americano) e sexto em população (com mais de 200 milhões de habitantes). É o único país na América onde se fala majoritariamente a língua portuguesa e o maior país lusófono do planeta, além de ser uma das nações mais multiculturais e etnicamente diversas, em decorrência da forte imigração oriunda de variados locais do mundo."
   ]
  },
  {
   "cell_type": "code",
   "execution_count": 75,
   "metadata": {},
   "outputs": [
    {
     "data": {
      "text/plain": [
       "{'numero_palavras': 87, 'numero_numeros': 2, 'numero_frases': 3}"
      ]
     },
     "execution_count": 75,
     "metadata": {},
     "output_type": "execute_result"
    }
   ],
   "source": [
    "# resposta 4\n",
    "import re\n",
    "\n",
    "def informacoes_texto(texto):\n",
    "    frases = texto.split(\".\")\n",
    "    numeros = []\n",
    "    palavras = []\n",
    "    for termo in texto.split(' '):\n",
    "        # removemos as pontuacoes entre os termos\n",
    "        termo = re.sub(r'\\,|\\.|\\s', '', termo)\n",
    "        if termo.isdigit():\n",
    "            numeros.append(termo)\n",
    "        else:\n",
    "            palavras.append(termo)\n",
    "    d = {}\n",
    "    d['numero_palavras'] = len(palavras)\n",
    "    d['numero_numeros'] = len(numeros)\n",
    "    d['numero_frases'] = len(frases)\n",
    "    return d\n",
    "    \n",
    "texto = \"Brasil, oficialmente República Federativa do Brasil é o maior país da América do Sul e da região da América Latina, sendo o quinto maior do mundo em área territorial (equivalente a 47 porcento do território sul-americano) e sexto em população (com mais de 200 milhões de habitantes). É o único país na América onde se fala majoritariamente a língua portuguesa e o maior país lusófono do planeta, além de ser uma das nações mais multiculturais e etnicamente diversas, em decorrência da forte imigração oriunda de variados locais do mundo.\"\n",
    "\n",
    "informacoes_texto(texto)"
   ]
  },
  {
   "cell_type": "markdown",
   "metadata": {},
   "source": [
    "## 5) Implemente um algoritmo que calcule o fatorial de número de modo não-recursivo"
   ]
  },
  {
   "cell_type": "code",
   "execution_count": 13,
   "metadata": {},
   "outputs": [
    {
     "name": "stdout",
     "output_type": "stream",
     "text": [
      "Fatorial de 2:  2\n",
      "Fatorial de 3:  6\n",
      "Fatorial de 4:  24\n"
     ]
    }
   ],
   "source": [
    "# resposta 5\n",
    "def fatorial(numero):\n",
    "    contador = numero\n",
    "    fat = numero\n",
    "    while contador > 1:\n",
    "        fat = fat * (contador-1)\n",
    "        contador -= 1\n",
    "    return fat\n",
    "\n",
    "print(\"Fatorial de 2: \", fatorial(2))\n",
    "print(\"Fatorial de 3: \", fatorial(3))\n",
    "print(\"Fatorial de 4: \", fatorial(4))"
   ]
  },
  {
   "cell_type": "markdown",
   "metadata": {},
   "source": [
    "## 6) Implemente duas funções:\n",
    "> Uma que converta graus Celsius para Fahrenheit\n",
    "\n",
    "> Outra que converta graus Fahrenheit para Celsius\n",
    "\n",
    "> 𝐹=  9/5×𝐶+32"
   ]
  },
  {
   "cell_type": "code",
   "execution_count": 24,
   "metadata": {},
   "outputs": [
    {
     "name": "stdout",
     "output_type": "stream",
     "text": [
      "30 Celsius para Farenheit:  86.0\n",
      "86 Farenheit para Celsius :  30.0\n"
     ]
    }
   ],
   "source": [
    "# resposta 6\n",
    "def celsius2farenheit(celsius):\n",
    "    return 9/5*celsius+32\n",
    "\n",
    "def farenheit2celsius(farenheit):\n",
    "    return (farenheit - 32) * (5/9)\n",
    "\n",
    "print('30 Celsius para Farenheit: ' , celsius2farenheit(30))\n",
    "print('86 Farenheit para Celsius : ' , farenheit2celsius(86))\n"
   ]
  },
  {
   "cell_type": "markdown",
   "metadata": {},
   "source": [
    "## 7) Implemente uma função que receba uma lista com 100 números, de 0 a 100, e retorne outra lista contendo apenas os números primos. \n",
    "    > Use numpy.arange para gerar a lista"
   ]
  },
  {
   "cell_type": "code",
   "execution_count": 78,
   "metadata": {},
   "outputs": [
    {
     "name": "stdout",
     "output_type": "stream",
     "text": [
      "[2, 3, 5, 7, 11, 13, 17, 19, 23, 29, 31, 37, 41, 43, 47, 53, 59, 61, 67, 71, 73, 79, 83, 89, 97]\n"
     ]
    }
   ],
   "source": [
    "# resposta 7\n",
    "import numpy as np\n",
    "def is_primo(numero):\n",
    "    if numero == 1:\n",
    "        return False\n",
    "    \n",
    "    if numero == 2:\n",
    "        return True\n",
    "    \n",
    "    if numero % 2 == 0:\n",
    "        return False\n",
    "    \n",
    "    for i in range(3, numero, 2):\n",
    "        if numero % i == 0:\n",
    "            return False\n",
    "    return True\n",
    "\n",
    "def get_numeros_primos(lista_nums):\n",
    "    numeros_primos = []\n",
    "    for num in lista_nums:\n",
    "        if is_primo(num):\n",
    "            numeros_primos.append(num)\n",
    "    return numeros_primos\n",
    "\n",
    "lista_nums = np.arange(100).tolist()\n",
    "print(get_numeros_primos(lista_nums))\n",
    "\n",
    "#  2, 3, 5, 7, 11, 13, 17, 19, 23, 29, 31, 37, 41, 43, 47, 53, 59, 61, 67, 71, 73, 79, 83, 89, 97\n"
   ]
  }
 ],
 "metadata": {
  "kernelspec": {
   "display_name": "Python 3",
   "language": "python",
   "name": "python3"
  },
  "language_info": {
   "codemirror_mode": {
    "name": "ipython",
    "version": 3
   },
   "file_extension": ".py",
   "mimetype": "text/x-python",
   "name": "python",
   "nbconvert_exporter": "python",
   "pygments_lexer": "ipython3",
   "version": "3.7.3"
  }
 },
 "nbformat": 4,
 "nbformat_minor": 2
}
